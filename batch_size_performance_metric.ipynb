{
 "cells": [
  {
   "cell_type": "code",
   "execution_count": 1,
   "metadata": {},
   "outputs": [],
   "source": [
    "# datasets_subset.py is a copy of datasets.py \n",
    "# with filepaths changed to cluster filepaths and a new subsetting parameter for YFCC data\n",
    "from datasets_subset import *\n",
    "\n",
    "import time\n",
    "import numpy as np\n",
    "from tqdm import tqdm\n",
    "import matplotlib.pyplot as plt\n",
    "\n",
    "from torchvision import models\n",
    "import torch.utils.data # changed to prevent namespace pollution\n",
    "import torch.nn.functional as F\n",
    "import torch.nn as nn\n",
    "import torch.utils.data as data\n",
    "import torchvision.transforms as transforms\n",
    "import torch\n",
    "\n"
   ]
  },
  {
   "cell_type": "markdown",
   "metadata": {},
   "source": [
    "## If you want to use COCO for Testing (much faster initializing of dataset). It doesn't matter which dataset we use for this notebook's purposes since we are just testing the speed of model.forward() on different batch sizes"
   ]
  },
  {
   "cell_type": "code",
   "execution_count": 2,
   "metadata": {},
   "outputs": [
    {
     "name": "stdout",
     "output_type": "stream",
     "text": [
      "loading annotations into memory...\n",
      "Done (t=11.04s)\n",
      "creating index...\n",
      "index created!\n"
     ]
    }
   ],
   "source": [
    "transform_train = transforms.Compose([           \n",
    "        transforms.ToTensor(),                          \n",
    "        ])\n",
    "coco_data = CoCoDataset(transform_train)\n",
    "\n",
    "dataloader = data.DataLoader(dataset=coco_data, \n",
    "              num_workers=0,\n",
    "              batch_size=1,\n",
    "              collate_fn=collate_fn)"
   ]
  },
  {
   "cell_type": "code",
   "execution_count": 3,
   "metadata": {},
   "outputs": [
    {
     "data": {
      "text/plain": [
       "82081"
      ]
     },
     "execution_count": 3,
     "metadata": {},
     "output_type": "execute_result"
    }
   ],
   "source": [
    "len(dataloader)"
   ]
  },
  {
   "cell_type": "markdown",
   "metadata": {},
   "source": [
    "## If you want to use YFCC for Testing (slow initialization of dataset)"
   ]
  },
  {
   "cell_type": "code",
   "execution_count": null,
   "metadata": {},
   "outputs": [],
   "source": [
    "transform_train = transforms.Compose([           \n",
    "        transforms.ToTensor(),                          \n",
    "        ])\n",
    "\n",
    "dataset = YfccPlacesDataset(transform_train, 10, num_data_alex = 2000) # subset first 2k data\n",
    "\n",
    "dataloader = data.DataLoader(dataset=dataset, \n",
    "              num_workers=0,\n",
    "              batch_size=1,\n",
    "              collate_fn=collate_fn)"
   ]
  },
  {
   "cell_type": "code",
   "execution_count": null,
   "metadata": {},
   "outputs": [],
   "source": [
    "len(dataloader)"
   ]
  },
  {
   "cell_type": "code",
   "execution_count": null,
   "metadata": {},
   "outputs": [],
   "source": []
  },
  {
   "cell_type": "markdown",
   "metadata": {},
   "source": [
    "## Define two helper functions to perform the timing of model.forward() for different batch sizes"
   ]
  },
  {
   "cell_type": "code",
   "execution_count": 4,
   "metadata": {},
   "outputs": [],
   "source": [
    "def get_batch(dataloader, batch_size = 64):\n",
    "    '''\n",
    "    The goal of this function is to return a batch\n",
    "    of size batch_size as a torch tensor \n",
    "    of shape (batch_size, 3,3,224)\n",
    "    '''\n",
    "    print(\"batch method, batch size: {0}\".format(batch_size))\n",
    "    # initialize GPU and model\n",
    "    use_cuda = torch.cuda.is_available()\n",
    "    device = torch.device(\"cuda\" if use_cuda else \"cpu\")\n",
    "    model = models.alexnet(pretrained=True).to(device)\n",
    "    new_classifier = nn.Sequential(*list(model.classifier.children())[:-1])\n",
    "    model.classifier = new_classifier\n",
    "    model.eval() # IMPORANT: turn off all model stochasticity for comparison\n",
    "\n",
    "\n",
    "    # arrays to cache data for batching\n",
    "    batched_big_data =[]\n",
    "    \n",
    "    normalize = transforms.Normalize(mean=[0.485, 0.456, 0.406], std=[0.229, 0.224, 0.225])\n",
    "    num_data = len(dataloader)\n",
    "\n",
    "    for i, (data, target) in enumerate(tqdm(dataloader)):\n",
    "        if data is None:\n",
    "            continue\n",
    "            \n",
    "        # when we have accumulated batch_size data, \n",
    "        # early exit and return the batch\n",
    "        if i == batch_size:\n",
    "            print(\"batch obtained of size {0} obtained, returning\".format(batch_size))\n",
    "            all_big_data = torch.cat(batched_big_data, 0)\n",
    "            return all_big_data\n",
    "            \n",
    "        # store data into batched_big_data[]\n",
    "        data = normalize(data).to(device)\n",
    "        big_data = F.interpolate(data.unsqueeze(0), size=224, mode='bilinear').to(device)\n",
    "        # cache these results\n",
    "        batched_big_data.append(big_data)\n",
    "\n",
    "        \n",
    "\n",
    "def timing_test(batch_data):\n",
    "    # initialize GPU and model\n",
    "    use_cuda = torch.cuda.is_available()\n",
    "    device = torch.device(\"cuda\" if use_cuda else \"cpu\")\n",
    "    model = models.alexnet(pretrained=True).to(device)\n",
    "    new_classifier = nn.Sequential(*list(model.classifier.children())[:-1])\n",
    "    model.classifier = new_classifier\n",
    "    model.eval() # IMPORANT: turn off all model stochasticity for comparison\n",
    "    \n",
    "    time_arr = []\n",
    "    for _ in tqdm(range(1000)):\n",
    "        start = time.time()\n",
    "        #================================\n",
    "        feature = model.forward(batch_dat)\n",
    "        #================================\n",
    "        end = time.time()\n",
    "        time_arr.append(end-start)\n",
    "    return np.mean(time_arr)"
   ]
  },
  {
   "cell_type": "markdown",
   "metadata": {},
   "source": [
    "## Perform time tests for different batch sizes\n"
   ]
  },
  {
   "cell_type": "code",
   "execution_count": 21,
   "metadata": {},
   "outputs": [
    {
     "name": "stdout",
     "output_type": "stream",
     "text": [
      "batch method, batch size: 16\n"
     ]
    },
    {
     "name": "stderr",
     "output_type": "stream",
     "text": [
      "  0%|          | 0/82081 [00:00<?, ?it/s]/n/fs/revise-scr/alex/miniconda2/envs/toolenv/lib/python3.7/site-packages/torch/nn/functional.py:2506: UserWarning: Default upsampling behavior when mode=bilinear is changed to align_corners=False since 0.4.0. Please specify align_corners=True if the old behavior is desired. See the documentation of nn.Upsample for details.\n",
      "  \"See the documentation of nn.Upsample for details.\".format(mode))\n",
      "  0%|          | 16/82081 [00:00<27:23, 49.94it/s]\n"
     ]
    },
    {
     "name": "stdout",
     "output_type": "stream",
     "text": [
      "batch obtained of size 16 obtained, returning\n",
      "beginning timing test, averaging over 1k executions of model.forward()\n"
     ]
    },
    {
     "name": "stderr",
     "output_type": "stream",
     "text": [
      "100%|██████████| 1000/1000 [00:02<00:00, 336.96it/s]\n"
     ]
    },
    {
     "name": "stdout",
     "output_type": "stream",
     "text": [
      "[0.002943152904510498]\n",
      "================================\n",
      "batch method, batch size: 32\n"
     ]
    },
    {
     "name": "stderr",
     "output_type": "stream",
     "text": [
      "  0%|          | 32/82081 [00:00<23:47, 57.47it/s]\n"
     ]
    },
    {
     "name": "stdout",
     "output_type": "stream",
     "text": [
      "batch obtained of size 32 obtained, returning\n",
      "beginning timing test, averaging over 1k executions of model.forward()\n"
     ]
    },
    {
     "name": "stderr",
     "output_type": "stream",
     "text": [
      "100%|██████████| 1000/1000 [00:04<00:00, 211.59it/s]\n"
     ]
    },
    {
     "name": "stdout",
     "output_type": "stream",
     "text": [
      "[0.002943152904510498, 0.004688525676727295]\n",
      "================================\n",
      "batch method, batch size: 64\n"
     ]
    },
    {
     "name": "stderr",
     "output_type": "stream",
     "text": [
      "  0%|          | 64/82081 [00:01<24:32, 55.70it/s]\n"
     ]
    },
    {
     "name": "stdout",
     "output_type": "stream",
     "text": [
      "batch obtained of size 64 obtained, returning\n",
      "beginning timing test, averaging over 1k executions of model.forward()\n"
     ]
    },
    {
     "name": "stderr",
     "output_type": "stream",
     "text": [
      "100%|██████████| 1000/1000 [00:10<00:00, 94.25it/s]\n"
     ]
    },
    {
     "name": "stdout",
     "output_type": "stream",
     "text": [
      "[0.002943152904510498, 0.004688525676727295, 0.010532344102859498]\n",
      "================================\n",
      "batch method, batch size: 128\n"
     ]
    },
    {
     "name": "stderr",
     "output_type": "stream",
     "text": [
      "  0%|          | 128/82081 [00:02<24:46, 55.12it/s]\n"
     ]
    },
    {
     "name": "stdout",
     "output_type": "stream",
     "text": [
      "batch obtained of size 128 obtained, returning\n",
      "beginning timing test, averaging over 1k executions of model.forward()\n"
     ]
    },
    {
     "name": "stderr",
     "output_type": "stream",
     "text": [
      "100%|██████████| 1000/1000 [00:19<00:00, 52.11it/s]\n"
     ]
    },
    {
     "name": "stdout",
     "output_type": "stream",
     "text": [
      "[0.002943152904510498, 0.004688525676727295, 0.010532344102859498, 0.0190606689453125]\n",
      "================================\n",
      "batch method, batch size: 256\n"
     ]
    },
    {
     "name": "stderr",
     "output_type": "stream",
     "text": [
      "  0%|          | 256/82081 [00:04<23:45, 57.41it/s]\n"
     ]
    },
    {
     "name": "stdout",
     "output_type": "stream",
     "text": [
      "batch obtained of size 256 obtained, returning\n",
      "beginning timing test, averaging over 1k executions of model.forward()\n"
     ]
    },
    {
     "name": "stderr",
     "output_type": "stream",
     "text": [
      "100%|██████████| 1000/1000 [00:32<00:00, 30.90it/s]\n"
     ]
    },
    {
     "name": "stdout",
     "output_type": "stream",
     "text": [
      "[0.002943152904510498, 0.004688525676727295, 0.010532344102859498, 0.0190606689453125, 0.03215593457221985]\n",
      "================================\n",
      "batch method, batch size: 512\n"
     ]
    },
    {
     "name": "stderr",
     "output_type": "stream",
     "text": [
      "  1%|          | 512/82081 [00:08<23:47, 57.16it/s]\n"
     ]
    },
    {
     "name": "stdout",
     "output_type": "stream",
     "text": [
      "batch obtained of size 512 obtained, returning\n",
      "beginning timing test, averaging over 1k executions of model.forward()\n"
     ]
    },
    {
     "name": "stderr",
     "output_type": "stream",
     "text": [
      "100%|██████████| 1000/1000 [00:58<00:00, 17.03it/s]"
     ]
    },
    {
     "name": "stdout",
     "output_type": "stream",
     "text": [
      "[0.002943152904510498, 0.004688525676727295, 0.010532344102859498, 0.0190606689453125, 0.03215593457221985, 0.05837333631515503]\n",
      "================================\n"
     ]
    },
    {
     "name": "stderr",
     "output_type": "stream",
     "text": [
      "\n"
     ]
    }
   ],
   "source": [
    "forward_time = []\n",
    "# batch_sizes = [100, 200, 300, 400, 500, 600]\n",
    "batch_sizes = [16, 32, 64, 128, 256, 512]\n",
    "\n",
    "for i in batch_sizes:\n",
    "    batch_dat = get_batch(dataloader, i) # get a batch of size i\n",
    "    print(\"beginning timing test, averaging over 1k executions of model.forward()\")\n",
    "    avg_execution_time = timing_test(batch_dat) # perform timing test\n",
    "    \n",
    "    forward_time.append(avg_execution_time)\n",
    "    print(forward_time)\n",
    "    print(\"================================\")"
   ]
  },
  {
   "cell_type": "code",
   "execution_count": null,
   "metadata": {},
   "outputs": [],
   "source": []
  },
  {
   "cell_type": "markdown",
   "metadata": {},
   "source": [
    "## Plot trend of batch size vs avg execution time of model.forward() call"
   ]
  },
  {
   "cell_type": "code",
   "execution_count": 6,
   "metadata": {},
   "outputs": [],
   "source": [
    "# find linear fit from data\n",
    "x = np.asarray(batch_sizes)\n",
    "\n",
    "m, b = np.polyfit(x, forward_time, 1)"
   ]
  },
  {
   "cell_type": "code",
   "execution_count": 17,
   "metadata": {},
   "outputs": [
    {
     "data": {
      "text/plain": [
       "Text(0.5, 1.0, 'average time (over 1k batches) it takes to process a SINGLE image')"
      ]
     },
     "execution_count": 17,
     "metadata": {},
     "output_type": "execute_result"
    },
    {
     "data": {
      "image/png": "[encoded data removed]",
      "text/plain": [
       "<Figure size 432x288 with 1 Axes>"
      ]
     },
     "metadata": {
      "needs_background": "light"
     },
     "output_type": "display_data"
    }
   ],
   "source": [
    "plt.plot(x, forward_time/x, label = \"avg execution time for single image\")\n",
    "# plt.plot(x, x*m+b, label=\"linear fit\", color = \"red\")\n",
    "plt.xlabel(\"batch size\")\n",
    "plt.ylabel(\"time (s)\")\n",
    "plt.legend()\n",
    "\n",
    "\n",
    "plt.title(\"average time (over 1k batches) it takes to process a SINGLE image\")"
   ]
  },
  {
   "cell_type": "code",
   "execution_count": 20,
   "metadata": {},
   "outputs": [
    {
     "data": {
      "text/plain": [
       "Text(0.5, 1.0, 'average time (over 1k batches) it takes to process batch_size images')"
      ]
     },
     "execution_count": 20,
     "metadata": {},
     "output_type": "execute_result"
    },
    {
     "data": {
      "image/png": "[encoded data removed]",
      "text/plain": [
       "<Figure size 432x288 with 1 Axes>"
      ]
     },
     "metadata": {
      "needs_background": "light"
     },
     "output_type": "display_data"
    }
   ],
   "source": [
    "plt.scatter(x, forward_time, label = \"avg execution time for batch_size images\")\n",
    "plt.plot(x, x*m+b, label=\"linear fit\", color = \"red\")\n",
    "plt.xlabel(\"batch size\")\n",
    "plt.ylabel(\"time (s)\")\n",
    "plt.legend()\n",
    "\n",
    "\n",
    "plt.title(\"average time (over 1k batches) it takes to process batch_size images\")"
   ]
  }
 ],
 "metadata": {
  "kernelspec": {
   "display_name": "Python 3",
   "language": "python",
   "name": "python3"
  },
  "language_info": {
   "codemirror_mode": {
    "name": "ipython",
    "version": 3
   },
   "file_extension": ".py",
   "mimetype": "text/x-python",
   "name": "python",
   "nbconvert_exporter": "python",
   "pygments_lexer": "ipython3",
   "version": "3.7.3"
  }
 },
 "nbformat": 4,
 "nbformat_minor": 4
}
